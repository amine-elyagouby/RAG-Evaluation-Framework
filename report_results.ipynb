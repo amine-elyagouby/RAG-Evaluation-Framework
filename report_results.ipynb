{
 "cells": [
  {
   "cell_type": "code",
   "execution_count": 2,
   "id": "c9ca4bfb-ffde-4eeb-8475-9a26b4944b84",
   "metadata": {},
   "outputs": [
    {
     "name": "stdout",
     "output_type": "stream",
     "text": [
      "Collecting ijson\n",
      "  Downloading ijson-3.3.0-cp311-cp311-manylinux_2_17_x86_64.manylinux2014_x86_64.whl.metadata (21 kB)\n",
      "Downloading ijson-3.3.0-cp311-cp311-manylinux_2_17_x86_64.manylinux2014_x86_64.whl (119 kB)\n",
      "\u001b[2K   \u001b[90m━━━━━━━━━━━━━━━━━━━━━━━━━━━━━━━━━━━━━━━━\u001b[0m \u001b[32m119.2/119.2 kB\u001b[0m \u001b[31m2.7 MB/s\u001b[0m eta \u001b[36m0:00:00\u001b[0ma \u001b[36m0:00:01\u001b[0m\n",
      "\u001b[?25hInstalling collected packages: ijson\n",
      "Successfully installed ijson-3.3.0\n",
      "Note: you may need to restart the kernel to use updated packages.\n"
     ]
    }
   ],
   "source": [
    "pip install ijson"
   ]
  },
  {
   "cell_type": "code",
   "execution_count": 33,
   "id": "1ec6585c-344e-4bb5-b866-f31eb4e055f0",
   "metadata": {},
   "outputs": [],
   "source": [
    "import json\n",
    "import ijson\n",
    "import matplotlib.pyplot as plt\n",
    "#from langchain_community.chat_models import ChatOllama\n",
    "from tqdm import tqdm\n",
    "import numpy as np\n",
    "from pathlib import Path\n",
    "import pandas as pd"
   ]
  },
  {
   "cell_type": "markdown",
   "id": "2e948893-5851-465f-96ea-ad87a1cfc7e0",
   "metadata": {},
   "source": [
    "# getting ir scores from 100 to 1000"
   ]
  },
  {
   "cell_type": "code",
   "execution_count": 179,
   "id": "05aa7ba3-c6e6-4ebb-8ba9-8d6d5786e81c",
   "metadata": {},
   "outputs": [],
   "source": [
    "def get_ir_scores(path = 'ir_scores/scores_bm25.json'):\n",
    "    ir_scores = []\n",
    "    with open(path, 'rb') as file:\n",
    "        for all_scores in ijson.items(file, \"all_scores\"):\n",
    "            for scores in all_scores :\n",
    "                ir_scores.append([s[0] for s in scores[:10]])\n",
    "    return ir_scores\n",
    "\n",
    "def get_level_scores(scores):\n",
    "    levels = [[] for _ in range(10)]\n",
    "    for sublist in scores:\n",
    "        for i, score in enumerate(sublist):\n",
    "            levels[i].append(score)\n",
    "    return levels\n",
    "\n",
    "def average(ir_scores):\n",
    "    return round(sum(ir_scores)/len(ir_scores), 2)\n",
    "   \n",
    "def get_average_level (levels):\n",
    "    avgs = []\n",
    "    for level in levels:\n",
    "        avgs.append(average(level))\n",
    "    return avgs\n",
    "\n",
    "def get_percentage_k(ir_scores, k = 0.60):\n",
    "    count = 0\n",
    "    for score in ir_scores:\n",
    "        if score >= k:\n",
    "            count +=1\n",
    "    return round(count/len(ir_scores), 2)\n",
    "\n",
    "def get_percentage_k_levels (levels, k = 0.60):\n",
    "    perc_k_levels = []\n",
    "    for level in levels:\n",
    "        perc_k_levels.append(get_percentage_k(level, k = k))\n",
    "    return perc_k_levels"
   ]
  },
  {
   "cell_type": "code",
   "execution_count": 393,
   "id": "b6e7f8af-2b50-4422-b117-51a0351ba401",
   "metadata": {},
   "outputs": [],
   "source": [
    "ir_scores_bm25 = get_ir_scores(path = 'ir_scores/scores_bm25.json')\n",
    "ir_scores_sim = get_ir_scores(path = 'ir_scores/scores_sim.json')\n",
    "ir_scores_mmr = get_ir_scores(path = 'ir_scores/scores_mmr.json')\n",
    "ir_scores_mlq = get_ir_scores(path = 'ir_scores/scores_mlq.json')\n",
    "ir_scores_reo = get_ir_scores(path = 'ir_scores/scores_reo.json')"
   ]
  },
  {
   "cell_type": "code",
   "execution_count": null,
   "id": "95fa4896-f763-4ebb-930c-44a93adbb80b",
   "metadata": {},
   "outputs": [],
   "source": [
    "all_scores = [[]]"
   ]
  },
  {
   "cell_type": "code",
   "execution_count": 21,
   "id": "8293e04f-f7d9-4b03-94d1-d2a238604066",
   "metadata": {},
   "outputs": [],
   "source": [
    "levels_bm25 = get_level_scores(ir_scores_bm25)\n",
    "levels_sim = get_level_scores(ir_scores_sim)\n",
    "levels_mmr = get_level_scores(ir_scores_mmr)\n",
    "levels_mlq = get_level_scores(ir_scores_mlq)\n",
    "levels_reo = get_level_scores(ir_scores_reo)"
   ]
  },
  {
   "cell_type": "code",
   "execution_count": 22,
   "id": "a1280146-2544-47cd-b90f-7684b68d97ac",
   "metadata": {},
   "outputs": [],
   "source": [
    "avg_bm25 = get_average_level(levels_bm25)\n",
    "avg_sim = get_average_level(levels_sim)\n",
    "avg_mmr = get_average_level(levels_mmr)\n",
    "avg_mlq = get_average_level(levels_mlq)\n",
    "avg_reo = get_average_level(levels_reo)"
   ]
  },
  {
   "cell_type": "code",
   "execution_count": 23,
   "id": "22ccdf0a-65d0-4830-bd00-1b6a9fde6c3a",
   "metadata": {},
   "outputs": [],
   "source": [
    "all_avgs = [avg_bm25, avg_sim, avg_mmr, avg_mlq, avg_reo]"
   ]
  },
  {
   "cell_type": "code",
   "execution_count": 26,
   "id": "84e3d60c-d6be-4a57-b018-ece1042aef55",
   "metadata": {},
   "outputs": [
    {
     "data": {
      "text/html": [
       "<div>\n",
       "<style scoped>\n",
       "    .dataframe tbody tr th:only-of-type {\n",
       "        vertical-align: middle;\n",
       "    }\n",
       "\n",
       "    .dataframe tbody tr th {\n",
       "        vertical-align: top;\n",
       "    }\n",
       "\n",
       "    .dataframe thead th {\n",
       "        text-align: right;\n",
       "    }\n",
       "</style>\n",
       "<table border=\"1\" class=\"dataframe\">\n",
       "  <thead>\n",
       "    <tr style=\"text-align: right;\">\n",
       "      <th></th>\n",
       "      <th>avg_bm25</th>\n",
       "      <th>avg_sim</th>\n",
       "      <th>avg_mmr</th>\n",
       "      <th>avg_mlq</th>\n",
       "      <th>avg_reo</th>\n",
       "    </tr>\n",
       "  </thead>\n",
       "  <tbody>\n",
       "    <tr>\n",
       "      <th>100</th>\n",
       "      <td>0.40</td>\n",
       "      <td>0.34</td>\n",
       "      <td>0.34</td>\n",
       "      <td>0.29</td>\n",
       "      <td>0.16</td>\n",
       "    </tr>\n",
       "    <tr>\n",
       "      <th>200</th>\n",
       "      <td>0.46</td>\n",
       "      <td>0.39</td>\n",
       "      <td>0.38</td>\n",
       "      <td>0.33</td>\n",
       "      <td>0.19</td>\n",
       "    </tr>\n",
       "    <tr>\n",
       "      <th>300</th>\n",
       "      <td>0.49</td>\n",
       "      <td>0.41</td>\n",
       "      <td>0.39</td>\n",
       "      <td>0.35</td>\n",
       "      <td>0.20</td>\n",
       "    </tr>\n",
       "    <tr>\n",
       "      <th>400</th>\n",
       "      <td>0.52</td>\n",
       "      <td>0.44</td>\n",
       "      <td>0.41</td>\n",
       "      <td>0.37</td>\n",
       "      <td>0.21</td>\n",
       "    </tr>\n",
       "    <tr>\n",
       "      <th>500</th>\n",
       "      <td>0.55</td>\n",
       "      <td>0.46</td>\n",
       "      <td>0.42</td>\n",
       "      <td>0.39</td>\n",
       "      <td>0.22</td>\n",
       "    </tr>\n",
       "    <tr>\n",
       "      <th>600</th>\n",
       "      <td>0.57</td>\n",
       "      <td>0.47</td>\n",
       "      <td>0.43</td>\n",
       "      <td>0.40</td>\n",
       "      <td>0.23</td>\n",
       "    </tr>\n",
       "    <tr>\n",
       "      <th>700</th>\n",
       "      <td>0.58</td>\n",
       "      <td>0.48</td>\n",
       "      <td>0.44</td>\n",
       "      <td>0.41</td>\n",
       "      <td>0.24</td>\n",
       "    </tr>\n",
       "    <tr>\n",
       "      <th>800</th>\n",
       "      <td>0.60</td>\n",
       "      <td>0.50</td>\n",
       "      <td>0.44</td>\n",
       "      <td>0.42</td>\n",
       "      <td>0.25</td>\n",
       "    </tr>\n",
       "    <tr>\n",
       "      <th>900</th>\n",
       "      <td>0.61</td>\n",
       "      <td>0.51</td>\n",
       "      <td>0.45</td>\n",
       "      <td>0.43</td>\n",
       "      <td>0.26</td>\n",
       "    </tr>\n",
       "    <tr>\n",
       "      <th>1000</th>\n",
       "      <td>0.62</td>\n",
       "      <td>0.52</td>\n",
       "      <td>0.46</td>\n",
       "      <td>0.43</td>\n",
       "      <td>0.26</td>\n",
       "    </tr>\n",
       "  </tbody>\n",
       "</table>\n",
       "</div>"
      ],
      "text/plain": [
       "     avg_bm25 avg_sim avg_mmr avg_mlq avg_reo\n",
       "100      0.40    0.34    0.34    0.29    0.16\n",
       "200      0.46    0.39    0.38    0.33    0.19\n",
       "300      0.49    0.41    0.39    0.35    0.20\n",
       "400      0.52    0.44    0.41    0.37    0.21\n",
       "500      0.55    0.46    0.42    0.39    0.22\n",
       "600      0.57    0.47    0.43    0.40    0.23\n",
       "700      0.58    0.48    0.44    0.41    0.24\n",
       "800      0.60    0.50    0.44    0.42    0.25\n",
       "900      0.61    0.51    0.45    0.43    0.26\n",
       "1000     0.62    0.52    0.46    0.43    0.26"
      ]
     },
     "execution_count": 26,
     "metadata": {},
     "output_type": "execute_result"
    }
   ],
   "source": [
    "df = pd.DataFrame(all_avgs).T\n",
    "df.columns = ['avg_bm25', 'avg_sim', 'avg_mmr', 'avg_mlq', 'avg_reo']\n",
    "new_index = list(range(100, 1100, 100))\n",
    "df.index = new_index\n",
    "df"
   ]
  },
  {
   "cell_type": "code",
   "execution_count": 29,
   "id": "7841891c-202c-47ba-81a4-1b0936d33994",
   "metadata": {},
   "outputs": [
    {
     "name": "stdout",
     "output_type": "stream",
     "text": [
      "\\begin{tabular}{llllll}\n",
      "\\toprule\n",
      " & avg_bm25 & avg_sim & avg_mmr & avg_mlq & avg_reo \\\\\n",
      "\\midrule\n",
      "100 & 0.40 & 0.34 & 0.34 & 0.29 & 0.16 \\\\\n",
      "200 & 0.46 & 0.39 & 0.38 & 0.33 & 0.19 \\\\\n",
      "300 & 0.49 & 0.41 & 0.39 & 0.35 & 0.20 \\\\\n",
      "400 & 0.52 & 0.44 & 0.41 & 0.37 & 0.21 \\\\\n",
      "500 & 0.55 & 0.46 & 0.42 & 0.39 & 0.22 \\\\\n",
      "600 & 0.57 & 0.47 & 0.43 & 0.40 & 0.23 \\\\\n",
      "700 & 0.58 & 0.48 & 0.44 & 0.41 & 0.24 \\\\\n",
      "800 & 0.60 & 0.50 & 0.44 & 0.42 & 0.25 \\\\\n",
      "900 & 0.61 & 0.51 & 0.45 & 0.43 & 0.26 \\\\\n",
      "1000 & 0.62 & 0.52 & 0.46 & 0.43 & 0.26 \\\\\n",
      "\\bottomrule\n",
      "\\end{tabular}\n",
      "\n"
     ]
    }
   ],
   "source": [
    "latex_code = df.to_latex(index=True)\n",
    "print(latex_code)"
   ]
  },
  {
   "cell_type": "code",
   "execution_count": 33,
   "id": "02f60cb5-b1b3-4ae7-8260-b26bb6e4368b",
   "metadata": {},
   "outputs": [],
   "source": [
    "percs_bm25 = get_percentage_k_levels(levels_bm25)\n",
    "percs_sim = get_percentage_k_levels(levels_sim)\n",
    "percs_mmr = get_percentage_k_levels(levels_mmr)\n",
    "percs_mlq = get_percentage_k_levels(levels_mlq)\n",
    "percs_reo = get_percentage_k_levels(levels_reo)"
   ]
  },
  {
   "cell_type": "code",
   "execution_count": 34,
   "id": "5ba93b7f-2c1d-410c-83a9-34da26b41f51",
   "metadata": {},
   "outputs": [],
   "source": [
    "all_percs = [percs_bm25, percs_sim, percs_mmr, percs_mlq, percs_reo]"
   ]
  },
  {
   "cell_type": "code",
   "execution_count": 36,
   "id": "4549a258-568d-4a0f-b8b3-3d9a5ca8e7c6",
   "metadata": {},
   "outputs": [
    {
     "data": {
      "text/html": [
       "<div>\n",
       "<style scoped>\n",
       "    .dataframe tbody tr th:only-of-type {\n",
       "        vertical-align: middle;\n",
       "    }\n",
       "\n",
       "    .dataframe tbody tr th {\n",
       "        vertical-align: top;\n",
       "    }\n",
       "\n",
       "    .dataframe thead th {\n",
       "        text-align: right;\n",
       "    }\n",
       "</style>\n",
       "<table border=\"1\" class=\"dataframe\">\n",
       "  <thead>\n",
       "    <tr style=\"text-align: right;\">\n",
       "      <th></th>\n",
       "      <th>bm25</th>\n",
       "      <th>sim</th>\n",
       "      <th>mmr</th>\n",
       "      <th>mlq</th>\n",
       "      <th>reo</th>\n",
       "    </tr>\n",
       "  </thead>\n",
       "  <tbody>\n",
       "    <tr>\n",
       "      <th>100</th>\n",
       "      <td>0.15</td>\n",
       "      <td>0.11</td>\n",
       "      <td>0.11</td>\n",
       "      <td>0.08</td>\n",
       "      <td>0.04</td>\n",
       "    </tr>\n",
       "    <tr>\n",
       "      <th>200</th>\n",
       "      <td>0.21</td>\n",
       "      <td>0.16</td>\n",
       "      <td>0.14</td>\n",
       "      <td>0.11</td>\n",
       "      <td>0.05</td>\n",
       "    </tr>\n",
       "    <tr>\n",
       "      <th>300</th>\n",
       "      <td>0.26</td>\n",
       "      <td>0.18</td>\n",
       "      <td>0.16</td>\n",
       "      <td>0.13</td>\n",
       "      <td>0.06</td>\n",
       "    </tr>\n",
       "    <tr>\n",
       "      <th>400</th>\n",
       "      <td>0.30</td>\n",
       "      <td>0.21</td>\n",
       "      <td>0.17</td>\n",
       "      <td>0.14</td>\n",
       "      <td>0.06</td>\n",
       "    </tr>\n",
       "    <tr>\n",
       "      <th>500</th>\n",
       "      <td>0.34</td>\n",
       "      <td>0.23</td>\n",
       "      <td>0.19</td>\n",
       "      <td>0.15</td>\n",
       "      <td>0.07</td>\n",
       "    </tr>\n",
       "    <tr>\n",
       "      <th>600</th>\n",
       "      <td>0.37</td>\n",
       "      <td>0.25</td>\n",
       "      <td>0.20</td>\n",
       "      <td>0.16</td>\n",
       "      <td>0.07</td>\n",
       "    </tr>\n",
       "    <tr>\n",
       "      <th>700</th>\n",
       "      <td>0.39</td>\n",
       "      <td>0.27</td>\n",
       "      <td>0.21</td>\n",
       "      <td>0.17</td>\n",
       "      <td>0.08</td>\n",
       "    </tr>\n",
       "    <tr>\n",
       "      <th>800</th>\n",
       "      <td>0.41</td>\n",
       "      <td>0.29</td>\n",
       "      <td>0.22</td>\n",
       "      <td>0.18</td>\n",
       "      <td>0.09</td>\n",
       "    </tr>\n",
       "    <tr>\n",
       "      <th>900</th>\n",
       "      <td>0.43</td>\n",
       "      <td>0.30</td>\n",
       "      <td>0.23</td>\n",
       "      <td>0.19</td>\n",
       "      <td>0.09</td>\n",
       "    </tr>\n",
       "    <tr>\n",
       "      <th>1000</th>\n",
       "      <td>0.45</td>\n",
       "      <td>0.31</td>\n",
       "      <td>0.24</td>\n",
       "      <td>0.19</td>\n",
       "      <td>0.09</td>\n",
       "    </tr>\n",
       "  </tbody>\n",
       "</table>\n",
       "</div>"
      ],
      "text/plain": [
       "      bm25   sim   mmr   mlq   reo\n",
       "100   0.15  0.11  0.11  0.08  0.04\n",
       "200   0.21  0.16  0.14  0.11  0.05\n",
       "300   0.26  0.18  0.16  0.13  0.06\n",
       "400   0.30  0.21  0.17  0.14  0.06\n",
       "500   0.34  0.23  0.19  0.15  0.07\n",
       "600   0.37  0.25  0.20  0.16  0.07\n",
       "700   0.39  0.27  0.21  0.17  0.08\n",
       "800   0.41  0.29  0.22  0.18  0.09\n",
       "900   0.43  0.30  0.23  0.19  0.09\n",
       "1000  0.45  0.31  0.24  0.19  0.09"
      ]
     },
     "execution_count": 36,
     "metadata": {},
     "output_type": "execute_result"
    }
   ],
   "source": [
    "df = pd.DataFrame(all_percs).T\n",
    "df.columns = ['bm25', 'sim', 'mmr', 'mlq', 'reo']\n",
    "new_index = list(range(100, 1100, 100))\n",
    "df.index = new_index\n",
    "df"
   ]
  },
  {
   "cell_type": "code",
   "execution_count": 39,
   "id": "db26d014-eccb-477d-9601-e57a22ee878e",
   "metadata": {
    "collapsed": true,
    "jupyter": {
     "outputs_hidden": true
    }
   },
   "outputs": [
    {
     "name": "stdout",
     "output_type": "stream",
     "text": [
      "\\begin{tabular}{lrrrrr}\n",
      "\\toprule\n",
      " & bm25 & sim & mmr & mlq & reo \\\\\n",
      "\\midrule\n",
      "100 & 0.150000 & 0.110000 & 0.110000 & 0.080000 & 0.040000 \\\\\n",
      "200 & 0.210000 & 0.160000 & 0.140000 & 0.110000 & 0.050000 \\\\\n",
      "300 & 0.260000 & 0.180000 & 0.160000 & 0.130000 & 0.060000 \\\\\n",
      "400 & 0.300000 & 0.210000 & 0.170000 & 0.140000 & 0.060000 \\\\\n",
      "500 & 0.340000 & 0.230000 & 0.190000 & 0.150000 & 0.070000 \\\\\n",
      "600 & 0.370000 & 0.250000 & 0.200000 & 0.160000 & 0.070000 \\\\\n",
      "700 & 0.390000 & 0.270000 & 0.210000 & 0.170000 & 0.080000 \\\\\n",
      "800 & 0.410000 & 0.290000 & 0.220000 & 0.180000 & 0.090000 \\\\\n",
      "900 & 0.430000 & 0.300000 & 0.230000 & 0.190000 & 0.090000 \\\\\n",
      "1000 & 0.450000 & 0.310000 & 0.240000 & 0.190000 & 0.090000 \\\\\n",
      "\\bottomrule\n",
      "\\end{tabular}\n",
      "\n"
     ]
    }
   ],
   "source": [
    "latex_code = df.to_latex(index=True)\n",
    "print(latex_code)"
   ]
  },
  {
   "cell_type": "markdown",
   "id": "80523195-86f4-4f27-bd58-f0fd09b17473",
   "metadata": {},
   "source": [
    "# getting LLM scores"
   ]
  },
  {
   "cell_type": "code",
   "execution_count": 1,
   "id": "9e2e4766-6fce-4058-a499-603d9e879374",
   "metadata": {},
   "outputs": [],
   "source": [
    "def read_file_to_list_of_lists(file_path):\n",
    "    list_of_lists = []\n",
    "    with open(file_path, 'r') as file:\n",
    "        for line in file:\n",
    "            # Split each line by comma and convert the elements to integers\n",
    "            list_of_lists.append([int(item) for item in line.strip().split(',')])\n",
    "    return list_of_lists\n",
    "\n",
    "def get_unique_col_counts(data):\n",
    "    numpy_array = np.array(data)\n",
    "    column_unique_counts = []\n",
    "    for col_index in range(numpy_array.shape[1]):\n",
    "        col = numpy_array[:, col_index]\n",
    "        unique_elements, counts = np.unique(col, return_counts=True)\n",
    "        total_sum = np.sum(counts)\n",
    "        percentages =  np.round((counts / total_sum), 2)\n",
    "\n",
    "        unique_counts_dict = dict(zip(unique_elements, percentages))\n",
    "        column_unique_counts.append(unique_counts_dict)\n",
    "    return column_unique_counts\n",
    "\n",
    "data1 = read_file_to_list_of_lists('scores.txt' )\n",
    "data2 = read_file_to_list_of_lists('scores_2.txt' )\n",
    "llm_scores = data1 + data2[4:]"
   ]
  },
  {
   "cell_type": "code",
   "execution_count": 5,
   "id": "8d1cd8e6-de05-420c-9479-677d56809ae6",
   "metadata": {},
   "outputs": [],
   "source": [
    "import json"
   ]
  },
  {
   "cell_type": "code",
   "execution_count": 6,
   "id": "cd3e64c8-565a-40dc-b5e6-ffdd59073d65",
   "metadata": {},
   "outputs": [],
   "source": [
    "with open('llm_scores.json', 'w') as json_file:\n",
    "    json.dump(llm_scores, json_file, indent=4)"
   ]
  },
  {
   "cell_type": "code",
   "execution_count": 384,
   "id": "eeb034aa-e0f0-423a-a172-fd38016e424e",
   "metadata": {},
   "outputs": [],
   "source": [
    "# bm25\n",
    "i_scores_5 = []\n",
    "for i, scores in enumerate(llm_scores):\n",
    "    if scores[1] == 1:\n",
    "        i_scores_5.append(i)"
   ]
  },
  {
   "cell_type": "code",
   "execution_count": 385,
   "id": "4351ae3c-e5b2-4a9d-80ff-7511dd6542bf",
   "metadata": {},
   "outputs": [],
   "source": [
    "scores_5 = [ir_scores_bm25[i][-1] for i in i_scores_5]"
   ]
  },
  {
   "cell_type": "code",
   "execution_count": 386,
   "id": "1dfc775b-4d45-4f22-ac2d-59fb5430316a",
   "metadata": {},
   "outputs": [
    {
     "data": {
      "image/png": "[encoded data removed]",
      "text/plain": [
       "<Figure size 640x480 with 1 Axes>"
      ]
     },
     "metadata": {},
     "output_type": "display_data"
    }
   ],
   "source": [
    "import matplotlib.pyplot as plt\n",
    "\n",
    "plt.plot(sorted(scores_5))\n",
    "\n",
    "plt.xlabel('Index of example')\n",
    "plt.ylabel('IR score')\n",
    "plt.title('BM25 IR scores for LLM score = 1')\n",
    "\n",
    "plt.show()"
   ]
  },
  {
   "cell_type": "code",
   "execution_count": null,
   "id": "86cdf07b-de07-4a79-99bb-3c0721ac9ae0",
   "metadata": {},
   "outputs": [],
   "source": []
  },
  {
   "cell_type": "code",
   "execution_count": 300,
   "id": "609da675-d1eb-4569-89b9-ca27c11c0670",
   "metadata": {},
   "outputs": [],
   "source": [
    "import matplotlib.pyplot as plt\n"
   ]
  },
  {
   "cell_type": "code",
   "execution_count": 394,
   "id": "6903f1d5-6678-4185-a2c8-cd69bc5f1267",
   "metadata": {},
   "outputs": [
    {
     "data": {
      "image/png": "[encoded data removed]",
      "text/plain": [
       "<Figure size 640x480 with 1 Axes>"
      ]
     },
     "metadata": {},
     "output_type": "display_data"
    }
   ],
   "source": [
    "ir_scores = [ir_score[-1] for ir_score in ir_scores_reo]\n",
    "sorted_scores = sorted(ir_scores)\n",
    "threshold = 0.67\n",
    "above_threshold = [score for score in ir_scores if score > threshold]\n",
    "percentage_above_threshold = (len(above_threshold) / len(ir_scores)) * 100\n",
    "\n",
    "min_threshold = 0.105\n",
    "under_threshold = [score for score in ir_scores if score < min_threshold]\n",
    "percentage_under_threshold = (len(under_threshold) / len(ir_scores)) * 100\n",
    "\n",
    "plt.plot(sorted_scores)\n",
    "plt.axhline(y=threshold, color='red', linestyle='-') \n",
    "plt.axhline(y=min_threshold, color='green', linestyle='-')  \n",
    "\n",
    "# Display the percentage on the plot\n",
    "plt.text(0.5, 0.7, f'{percentage_above_threshold:.2f}% above k = {threshold}', color='red', fontsize=12, transform=plt.gca().transAxes)\n",
    "plt.text(0.5, 0.05, f'{percentage_under_threshold:.2f}% under h = {min_threshold}', color='green', fontsize=12, transform=plt.gca().transAxes)\n",
    "plt.xlabel('Index of example')\n",
    "plt.ylabel('IR score')\n",
    "plt.title('REO IR scores')\n",
    "\n",
    "plt.show()"
   ]
  },
  {
   "cell_type": "code",
   "execution_count": 406,
   "id": "b2792560-6d1f-4c42-9751-920e8f3e37c0",
   "metadata": {},
   "outputs": [
    {
     "data": {
      "image/png": "[encoded data removed]",
      "text/plain": [
       "<Figure size 640x480 with 1 Axes>"
      ]
     },
     "metadata": {},
     "output_type": "display_data"
    }
   ],
   "source": [
    "import matplotlib.pyplot as plt\n",
    "\n",
    "ir_scores = [ir_score[-1] for ir_score in ir_scores_mlq]\n",
    "sorted_scores = sorted(ir_scores)\n",
    "# Define thresholds\n",
    "threshold = 0.67\n",
    "min_threshold = 0.105\n",
    "\n",
    "# Calculate percentages\n",
    "above_threshold = [score for score in ir_scores if score > threshold]\n",
    "percentage_above_threshold = (len(above_threshold) / len(ir_scores)) * 100\n",
    "\n",
    "under_threshold = [score for score in ir_scores if score < min_threshold]\n",
    "percentage_under_threshold = (len(under_threshold) / len(ir_scores)) * 100\n",
    "\n",
    "# Calculate the percentage between min_threshold and threshold\n",
    "between_thresholds = [score for score in ir_scores if min_threshold <= score <= threshold]\n",
    "percentage_between_thresholds = (len(between_thresholds) / len(ir_scores)) * 100\n",
    "\n",
    "# Plotting\n",
    "plt.plot(sorted_scores)\n",
    "plt.axhline(y=threshold, color='red', linestyle='-') \n",
    "plt.axhline(y=min_threshold, color='green', linestyle='-')  \n",
    "\n",
    "# Display the percentage on the plot\n",
    "plt.text(0.08, 0.8, f'{percentage_above_threshold:.2f}% above k = {threshold}: Correctness', color='red', fontsize=12, transform=plt.gca().transAxes)\n",
    "plt.text(0.08, 0.05, f'{percentage_under_threshold:.2f}% under h = {min_threshold}: Lack of Information', color='green', fontsize=12, transform=plt.gca().transAxes)\n",
    "plt.text(0.08, 0.45, f'{percentage_between_thresholds:.2f}% in between: Risk of Halluciantion', color='blue', fontsize=12, transform=plt.gca().transAxes)\n",
    "\n",
    "plt.xlabel('Index of example')\n",
    "plt.ylabel('IR score')\n",
    "plt.title('MLQ IR scores')\n",
    "\n",
    "plt.show()\n"
   ]
  },
  {
   "cell_type": "code",
   "execution_count": 103,
   "id": "d07041f0-d79e-47bb-ba08-9022c5f73da1",
   "metadata": {},
   "outputs": [],
   "source": [
    "llm_scores_bm25 = [scores[1] for scores in llm_scores]"
   ]
  },
  {
   "cell_type": "code",
   "execution_count": 126,
   "id": "b7e6de2c-739f-458f-b943-84b5ef2ec9ba",
   "metadata": {},
   "outputs": [
    {
     "data": {
      "image/png": "[encoded data removed]",
      "text/plain": [
       "<Figure size 1000x600 with 1 Axes>"
      ]
     },
     "metadata": {},
     "output_type": "display_data"
    },
    {
     "data": {
      "image/png": "[encoded data removed]",
      "text/plain": [
       "<Figure size 1000x600 with 1 Axes>"
      ]
     },
     "metadata": {},
     "output_type": "display_data"
    }
   ],
   "source": [
    "import matplotlib.pyplot as plt\n",
    "import seaborn as sns\n",
    "import pandas as pd\n",
    "\n",
    "df = pd.DataFrame({\n",
    "    'IR Score': ir_scores,\n",
    "    'LLM Score': llm_scores_bm25\n",
    "})\n",
    "\n",
    "# Distribution of IR Scores\n",
    "plt.figure(figsize=(10, 6))\n",
    "sns.histplot(df['IR Score'], bins=20, kde=True)\n",
    "plt.title('Distribution of IR Scores')\n",
    "plt.xlabel('IR Score')\n",
    "plt.ylabel('Frequency')\n",
    "plt.show()\n",
    "\n",
    "# Distribution of LLM Scores\n",
    "plt.figure(figsize=(10, 6))\n",
    "sns.histplot(df['LLM Score'], bins=5, kde=False)\n",
    "plt.title('Distribution of LLM Scores')\n",
    "plt.xlabel('LLM Score')\n",
    "plt.ylabel('Frequency')\n",
    "plt.show()\n"
   ]
  },
  {
   "cell_type": "code",
   "execution_count": 105,
   "id": "7fd53424-762c-402a-bc15-08ca8aeda492",
   "metadata": {},
   "outputs": [
    {
     "name": "stdout",
     "output_type": "stream",
     "text": [
      "Correlation between IR Score and LLM Score: 0.31698979231758645\n"
     ]
    }
   ],
   "source": [
    "correlation = df['IR Score'].corr(df['LLM Score'])\n",
    "print(f\"Correlation between IR Score and LLM Score: {correlation}\")"
   ]
  },
  {
   "cell_type": "code",
   "execution_count": 239,
   "id": "9fc8761b-6241-48ab-a489-feff6b9368a3",
   "metadata": {},
   "outputs": [
    {
     "name": "stderr",
     "output_type": "stream",
     "text": [
      "/opt/conda/lib/python3.11/site-packages/sklearn/metrics/_ranking.py:1133: UndefinedMetricWarning: No positive samples in y_true, true positive value should be meaningless\n",
      "  warnings.warn(\n"
     ]
    },
    {
     "name": "stdout",
     "output_type": "stream",
     "text": [
      "Optimal threshold (k): inf\n"
     ]
    },
    {
     "data": {
      "image/png": "[encoded data removed]",
      "text/plain": [
       "<Figure size 1000x600 with 1 Axes>"
      ]
     },
     "metadata": {},
     "output_type": "display_data"
    }
   ],
   "source": [
    "from sklearn.metrics import roc_curve, auc\n",
    "\n",
    "# Binarize LLM Scores (1 if score is 5, 0 otherwise)\n",
    "df['Correct'] = (df['LLM Score'] == 5).astype(int)\n",
    "\n",
    "fpr, tpr, thresholds = roc_curve(df['Correct'], df['IR Score'])\n",
    "roc_auc = auc(fpr, tpr)\n",
    "\n",
    "plt.figure(figsize=(10, 6))\n",
    "plt.plot(fpr, tpr, color='blue', label=f'ROC curve (area = {roc_auc:.2f})')\n",
    "plt.plot([0, 1], [0, 1], color='gray', linestyle='--')\n",
    "plt.xlabel('False Positive Rate')\n",
    "plt.ylabel('True Positive Rate')\n",
    "plt.title('ROC Curve')\n",
    "plt.legend(loc=\"lower right\")\n",
    "\n",
    "\n",
    "# Determine the optimal threshold\n",
    "optimal_idx = np.argmax(tpr - fpr)\n",
    "optimal_threshold = thresholds[optimal_idx]\n",
    "plt.scatter(fpr[optimal_idx], tpr[optimal_idx], color='red', label=f'Optimal threshold (k = {optimal_threshold:.2f})')\n",
    "print(f\"Optimal threshold (k): {optimal_threshold}\")\n",
    "plt.show()"
   ]
  },
  {
   "cell_type": "code",
   "execution_count": 116,
   "id": "eead97f8-00e5-4214-ab36-29b6c2cb7ac1",
   "metadata": {},
   "outputs": [
    {
     "data": {
      "text/plain": [
       "7404"
      ]
     },
     "execution_count": 116,
     "metadata": {},
     "output_type": "execute_result"
    }
   ],
   "source": [
    "len(df['IR Score'])"
   ]
  },
  {
   "cell_type": "code",
   "execution_count": 122,
   "id": "aa1e3cf0-7fb8-4057-97f8-35250b6d779d",
   "metadata": {},
   "outputs": [
    {
     "name": "stdout",
     "output_type": "stream",
     "text": [
      "Optimal threshold (k): 0.708255386121654\n"
     ]
    }
   ],
   "source": [
    "import pandas as pd\n",
    "import numpy as np\n",
    "from scipy.optimize import differential_evolution\n",
    "import matplotlib.pyplot as plt\n",
    "\n",
    "\n",
    "# Convert LLM Score to binary (1 if score is 5, 0 otherwise)\n",
    "df['Correct'] = (df['LLM Score'] == 5).astype(int)\n",
    "\n",
    "# Likelihood function\n",
    "def likelihood_function(k, scores, outcomes):\n",
    "    k = k[0]\n",
    "    p = (scores > k).astype(int)  # Probability of being classified as 1\n",
    "    likelihoods = p * outcomes + (1 - p) * (1 - outcomes)\n",
    "    return -np.sum(np.log(likelihoods + 1e-10))  # Add a small value to avoid log(0)\n",
    "\n",
    "# Define the bounds for k\n",
    "bounds = [(0, 1)]  # Assuming IR scores are between 0 and 1\n",
    "\n",
    "# Perform the optimization\n",
    "result = differential_evolution(likelihood_function, bounds, args=(df['IR Score'], df['Correct']))\n",
    "\n",
    "# Optimal threshold\n",
    "optimal_k = result.x[0]\n",
    "print(f\"Optimal threshold (k): {optimal_k}\")\n",
    "\n"
   ]
  },
  {
   "cell_type": "code",
   "execution_count": 147,
   "id": "2ea08b99-d628-40fb-bd29-3b40f79ddbc7",
   "metadata": {},
   "outputs": [],
   "source": [
    "df['Correct'] = (df['LLM Score'] == 5).astype(int)"
   ]
  },
  {
   "cell_type": "code",
   "execution_count": 149,
   "id": "fbc9d759-1ec1-46f2-b45e-14be0fe4a5ce",
   "metadata": {},
   "outputs": [],
   "source": [
    "df['Filtered'] = ((df['LLM Score'] == 2) | (df['LLM Score'] == 4)).astype(int)"
   ]
  },
  {
   "cell_type": "code",
   "execution_count": 150,
   "id": "d2d03354-6217-4fe9-93fa-7d07c736b666",
   "metadata": {},
   "outputs": [
    {
     "data": {
      "text/plain": [
       "7404"
      ]
     },
     "execution_count": 150,
     "metadata": {},
     "output_type": "execute_result"
    }
   ],
   "source": [
    "len(df['Filtered'])"
   ]
  },
  {
   "cell_type": "code",
   "execution_count": 153,
   "id": "a1b32c7c-4b1b-413f-9cce-7e35528cb63e",
   "metadata": {},
   "outputs": [
    {
     "data": {
      "text/plain": [
       "0       0.5555555555555556\n",
       "1       0.3828516120419197\n",
       "2       0.4674399301004806\n",
       "5       0.2200404858299595\n",
       "8       0.6916299559471365\n",
       "               ...        \n",
       "7390    0.5728155339805825\n",
       "7391    0.5878136200716846\n",
       "7393    0.6509433962264151\n",
       "7400                   1.0\n",
       "7402    0.6214285714285714\n",
       "Name: IR Score, Length: 2716, dtype: object"
      ]
     },
     "execution_count": 153,
     "metadata": {},
     "output_type": "execute_result"
    }
   ],
   "source": [
    "filtered_df['IR Score']"
   ]
  },
  {
   "cell_type": "code",
   "execution_count": 177,
   "id": "22fe1509-2ece-4ac1-aa72-9be5568f8abd",
   "metadata": {},
   "outputs": [],
   "source": [
    "ir_scores_bm25_1000 = [float(ir_score[-1]) for ir_score in ir_scores_bm25]"
   ]
  },
  {
   "cell_type": "code",
   "execution_count": 170,
   "id": "ebe8cdfb-ff9e-4337-a1af-9f01545e66a0",
   "metadata": {},
   "outputs": [
    {
     "data": {
      "text/plain": [
       "Decimal('0.5555555555555556')"
      ]
     },
     "execution_count": 170,
     "metadata": {},
     "output_type": "execute_result"
    }
   ],
   "source": [
    "ir_scores_bm25_1000[0]"
   ]
  },
  {
   "cell_type": "code",
   "execution_count": 178,
   "id": "5161413a-6082-4ca4-935b-db88c02b8757",
   "metadata": {},
   "outputs": [
    {
     "name": "stdout",
     "output_type": "stream",
     "text": [
      "Optimal a: 0.03427897583257655\n",
      "Optimal b: 1.0\n"
     ]
    }
   ],
   "source": [
    "import numpy as np\n",
    "from scipy.optimize import differential_evolution\n",
    "\n",
    "# Example lists of IR scores and LLM scores\n",
    "IR_scores = np.array(ir_scores_bm25_1000)\n",
    "LLM_scores = np.array(llm_scores_bm25)\n",
    "\n",
    "# Define the objective function\n",
    "def objective_function(params):\n",
    "    a, b = params\n",
    "    total_penalty = 0\n",
    "    for ir, llm in zip(IR_scores, LLM_scores):\n",
    "        if llm in [2, 4]:\n",
    "            total_penalty += max(0, ir - b) + max(0, a - ir)\n",
    "    return total_penalty\n",
    "\n",
    "# Define the bounds for a and b\n",
    "bounds = [(min(IR_scores), max(IR_scores)), (min(IR_scores), max(IR_scores))]\n",
    "\n",
    "# Run differential evolution to minimize the objective function\n",
    "result = differential_evolution(objective_function, bounds)\n",
    "a_opt, b_opt = result.x\n",
    "\n",
    "# Print the results\n",
    "print(f\"Optimal a: {a_opt}\")\n",
    "print(f\"Optimal b: {b_opt}\")"
   ]
  },
  {
   "cell_type": "code",
   "execution_count": 97,
   "id": "aa19e16a-f9fa-43d8-aa25-888b60c94348",
   "metadata": {},
   "outputs": [
    {
     "data": {
      "text/plain": [
       "[{1: 0.01, 2: 0.13, 3: 0.04, 4: 0.58, 5: 0.24},\n",
       " {1: 0.08, 2: 0.05, 3: 0.13, 4: 0.31, 5: 0.42},\n",
       " {1: 0.09, 2: 0.05, 3: 0.14, 4: 0.4, 5: 0.32},\n",
       " {1: 0.1, 2: 0.07, 3: 0.12, 4: 0.42, 5: 0.29},\n",
       " {1: 0.18, 2: 0.06, 3: 0.12, 4: 0.41, 5: 0.24},\n",
       " {1: 0.21, 2: 0.05, 3: 0.07, 4: 0.49, 5: 0.18}]"
      ]
     },
     "execution_count": 97,
     "metadata": {},
     "output_type": "execute_result"
    }
   ],
   "source": [
    "unique_scores = get_unique_col_counts(llm_scores)\n",
    "unique_scores[-1], unique_scores[-2] = unique_scores[-2], unique_scores[-1]\n",
    "unique_scores"
   ]
  },
  {
   "cell_type": "code",
   "execution_count": 99,
   "id": "58d4bb36-c107-4c65-904b-6288998fa957",
   "metadata": {},
   "outputs": [
    {
     "data": {
      "text/html": [
       "<div>\n",
       "<style scoped>\n",
       "    .dataframe tbody tr th:only-of-type {\n",
       "        vertical-align: middle;\n",
       "    }\n",
       "\n",
       "    .dataframe tbody tr th {\n",
       "        vertical-align: top;\n",
       "    }\n",
       "\n",
       "    .dataframe thead th {\n",
       "        text-align: right;\n",
       "    }\n",
       "</style>\n",
       "<table border=\"1\" class=\"dataframe\">\n",
       "  <thead>\n",
       "    <tr style=\"text-align: right;\">\n",
       "      <th></th>\n",
       "      <th>1</th>\n",
       "      <th>2</th>\n",
       "      <th>3</th>\n",
       "      <th>4</th>\n",
       "      <th>5</th>\n",
       "    </tr>\n",
       "  </thead>\n",
       "  <tbody>\n",
       "    <tr>\n",
       "      <th>llm only</th>\n",
       "      <td>0.01</td>\n",
       "      <td>0.13</td>\n",
       "      <td>0.04</td>\n",
       "      <td>0.58</td>\n",
       "      <td>0.24</td>\n",
       "    </tr>\n",
       "    <tr>\n",
       "      <th>bm25</th>\n",
       "      <td>0.08</td>\n",
       "      <td>0.05</td>\n",
       "      <td>0.13</td>\n",
       "      <td>0.31</td>\n",
       "      <td>0.42</td>\n",
       "    </tr>\n",
       "    <tr>\n",
       "      <th>sim</th>\n",
       "      <td>0.09</td>\n",
       "      <td>0.05</td>\n",
       "      <td>0.14</td>\n",
       "      <td>0.40</td>\n",
       "      <td>0.32</td>\n",
       "    </tr>\n",
       "    <tr>\n",
       "      <th>mmr</th>\n",
       "      <td>0.10</td>\n",
       "      <td>0.07</td>\n",
       "      <td>0.12</td>\n",
       "      <td>0.42</td>\n",
       "      <td>0.29</td>\n",
       "    </tr>\n",
       "    <tr>\n",
       "      <th>mlq</th>\n",
       "      <td>0.18</td>\n",
       "      <td>0.06</td>\n",
       "      <td>0.12</td>\n",
       "      <td>0.41</td>\n",
       "      <td>0.24</td>\n",
       "    </tr>\n",
       "    <tr>\n",
       "      <th>reo</th>\n",
       "      <td>0.21</td>\n",
       "      <td>0.05</td>\n",
       "      <td>0.07</td>\n",
       "      <td>0.49</td>\n",
       "      <td>0.18</td>\n",
       "    </tr>\n",
       "  </tbody>\n",
       "</table>\n",
       "</div>"
      ],
      "text/plain": [
       "             1     2     3     4     5\n",
       "llm only  0.01  0.13  0.04  0.58  0.24\n",
       "bm25      0.08  0.05  0.13  0.31  0.42\n",
       "sim       0.09  0.05  0.14  0.40  0.32\n",
       "mmr       0.10  0.07  0.12  0.42  0.29\n",
       "mlq       0.18  0.06  0.12  0.41  0.24\n",
       "reo       0.21  0.05  0.07  0.49  0.18"
      ]
     },
     "execution_count": 99,
     "metadata": {},
     "output_type": "execute_result"
    }
   ],
   "source": [
    "df = pd.DataFrame(unique_scores)\n",
    "df.index = ['llm only', 'bm25', 'sim', 'mmr', 'mlq', 'reo']\n",
    "df"
   ]
  },
  {
   "cell_type": "code",
   "execution_count": 102,
   "id": "0ca9b0ee-41ee-4448-b305-b0cb517a89e9",
   "metadata": {},
   "outputs": [
    {
     "name": "stdout",
     "output_type": "stream",
     "text": [
      "\\begin{tabular}{lrrrrr}\n",
      "\\toprule\n",
      " & 1 & 2 & 3 & 4 & 5 \\\\\n",
      "\\midrule\n",
      "llm only & 0.010000 & 0.130000 & 0.040000 & 0.580000 & 0.240000 \\\\\n",
      "bm25 & 0.080000 & 0.050000 & 0.130000 & 0.310000 & 0.420000 \\\\\n",
      "sim & 0.090000 & 0.050000 & 0.140000 & 0.400000 & 0.320000 \\\\\n",
      "mmr & 0.100000 & 0.070000 & 0.120000 & 0.420000 & 0.290000 \\\\\n",
      "mlq & 0.180000 & 0.060000 & 0.120000 & 0.410000 & 0.240000 \\\\\n",
      "reo & 0.210000 & 0.050000 & 0.070000 & 0.490000 & 0.180000 \\\\\n",
      "\\bottomrule\n",
      "\\end{tabular}\n",
      "\n"
     ]
    }
   ],
   "source": [
    "latex_code = df.to_latex(index=True)\n",
    "print(latex_code)"
   ]
  },
  {
   "cell_type": "code",
   "execution_count": 2,
   "id": "1fd4f2a3-1412-4354-9926-cf132289c9cc",
   "metadata": {},
   "outputs": [],
   "source": [
    "with open(\"sample_100.json\", 'r') as file:\n",
    "    sample_data = json.load(file)"
   ]
  },
  {
   "cell_type": "code",
   "execution_count": 68,
   "id": "a8857620-5a2a-4f61-a0d7-16f47b2ba17c",
   "metadata": {},
   "outputs": [],
   "source": [
    "def get_ir_scores_sample(sample, path = 'ir_scores/scores_bm25.json'):\n",
    "    scores_k = []\n",
    "    with open(path, 'rb') as file:\n",
    "        for all_scores in ijson.items(file, \"all_scores\"):\n",
    "            for index,_ in sample:\n",
    "                scores_k.append([s[0] for s in all_scores[index][:10]])\n",
    "    return scores_k\n",
    "\n",
    "def get_ir_scores_1000(path = 'ir_scores/scores_bm25.json'):\n",
    "    scores_1000 = []\n",
    "    with open(path, 'rb') as file:\n",
    "        for all_scores in ijson.items(file, \"all_scores\"):\n",
    "            for scores in all_scores :\n",
    "                scores_1000.append(scores[:10][-1][0])\n",
    "    return scores_1000\n",
    "\n",
    "def get_ir_scores(path = 'ir_scores/scores_bm25.json'):\n",
    "    ir_scores = []\n",
    "    with open(path, 'rb') as file:\n",
    "        for all_scores in ijson.items(file, \"all_scores\"):\n",
    "            for scores in all_scores :\n",
    "                ir_scores.append([s[0] for s in scores[:10]])\n",
    "    return ir_scores\n",
    "\n",
    "with open(\"all_scores_sample3.json\", 'r') as file:\n",
    "    sample_llm_scores = json.load(file)"
   ]
  },
  {
   "cell_type": "code",
   "execution_count": 4,
   "id": "1a1d2b12-cf97-4476-9c7d-8c8f28f8324e",
   "metadata": {},
   "outputs": [],
   "source": [
    "ir_scores_k = get_ir_scores_sample(sample_data)"
   ]
  },
  {
   "cell_type": "code",
   "execution_count": 33,
   "id": "954c5cdd-bbb3-40da-9d45-931c04723aa8",
   "metadata": {},
   "outputs": [],
   "source": [
    "ir_scores_bm25 = get_ir_scores(path = 'ir_scores/scores_bm25.json')\n",
    "ir_scores_sim = get_ir_scores(path = 'ir_scores/scores_sim.json')\n",
    "ir_scores_mmr = get_ir_scores(path = 'ir_scores/scores_mmr.json')\n",
    "ir_scores_mlq = get_ir_scores(path = 'ir_scores/scores_mlq.json')\n",
    "ir_scores_reo = get_ir_scores(path = 'ir_scores/scores_reo.json')"
   ]
  },
  {
   "cell_type": "code",
   "execution_count": 72,
   "id": "af2f9512-0270-4494-aad2-fc0fc290387a",
   "metadata": {},
   "outputs": [],
   "source": [
    "def get_level_scores(scores):\n",
    "    levels = [[] for _ in range(10)]\n",
    "    for sublist in scores:\n",
    "        for i, score in enumerate(sublist):\n",
    "            levels[i].append(score)\n",
    "    return levels\n",
    "\n",
    "def get_average_level (levels):\n",
    "    avgs = []\n",
    "    for level in levels:\n",
    "        avgs.append(average(level))\n",
    "    return avgs\n",
    "def get_percentage_k_levels (levels,k):\n",
    "    p = []\n",
    "    for level in levels:\n",
    "        p.append(get_percentage_k(level, k = k))\n",
    "\n",
    "    return p"
   ]
  },
  {
   "cell_type": "code",
   "execution_count": 73,
   "id": "a16120e3-4f9e-438e-90db-830e75431864",
   "metadata": {},
   "outputs": [],
   "source": [
    "levels_bm25 = get_level_scores(ir_scores_bm25)\n",
    "levels_sim = get_level_scores(ir_scores_sim)\n",
    "levels_mmr = get_level_scores(ir_scores_mmr)\n",
    "levels_mlq = get_level_scores(ir_scores_mlq)\n",
    "levels_reo = get_level_scores(ir_scores_reo)"
   ]
  },
  {
   "cell_type": "code",
   "execution_count": 74,
   "id": "e30b7b84-e0b5-46ba-b8f1-ab30883d79e1",
   "metadata": {},
   "outputs": [
    {
     "name": "stdout",
     "output_type": "stream",
     "text": [
      "Average Levels:\n",
      "BM25: [Decimal('0.4035648137288971297521609941'), Decimal('0.4575142380880016957531064290'), Decimal('0.4871870481279991637098865478'), Decimal('0.5196673833615388074808211777'), Decimal('0.5454254522123379686162884927'), Decimal('0.5662992254723105904569652750'), Decimal('0.5842908117330048215225981055'), Decimal('0.5991039503369806050116641801'), Decimal('0.6126169319011212074063989108'), Decimal('0.6249797667789845563022936410')]\n",
      "SIM: [Decimal('0.3372771024144097228260399784'), Decimal('0.3900714774733331451547811994'), Decimal('0.4147772614472508513548082118'), Decimal('0.4361106511089088883832230177'), Decimal('0.4551472178328748735850790647'), Decimal('0.4708106812450693499076278063'), Decimal('0.4848144569798483081681596091'), Decimal('0.4977135511223753912888707038'), Decimal('0.5085539643656905141522187114'), Decimal('0.5191601276974470019000415340')]\n",
      "MMR: [Decimal('0.3358503115791513958421123717'), Decimal('0.3786762710678519575601026472'), Decimal('0.3940186069077357201649108590'), Decimal('0.4052422765804340614473861948'), Decimal('0.4161771418832301730534918276'), Decimal('0.4263010119874083897913795433'), Decimal('0.4355947048689197490744248985'), Decimal('0.4449808462048085450675822682'), Decimal('0.4537013667744722852405809015'), Decimal('0.4605918404796944637329183956')]\n",
      "MLQ: [Decimal('0.2896070650479403468165856294'), Decimal('0.3307429761772557157725490196'), Decimal('0.3508044006798426602092261499'), Decimal('0.3700547961803983148815419246'), Decimal('0.3867316130546415763312838530'), Decimal('0.4010259857530055270399446920'), Decimal('0.4112006732044665821934282939'), Decimal('0.4205393703813461266881084840'), Decimal('0.4291558336674577069135175785'), Decimal('0.4342955995325490298812832039')]\n",
      "REO: [Decimal('0.1639310004123706621399243652'), Decimal('0.1898198250303496822105618585'), Decimal('0.2025159622015880767085359265'), Decimal('0.2128228651686629682675942186'), Decimal('0.2216266237294763445939991891'), Decimal('0.2307495161817244557268055180'), Decimal('0.2391743447541668841239142237'), Decimal('0.2475815103427329755455537370'), Decimal('0.2551457698787147890344827586'), Decimal('0.2629727953426766913685449259')]\n",
      "\n",
      "Percentage of Scores >= 0.5:\n",
      "BM25: [0.05172879524581307, 0.09764991896272285, 0.14073473797947056, 0.1897622906537007, 0.22798487304159915, 0.25820835022294286, 0.2848443843031123, 0.3067950630679506, 0.3263444520081688, 0.3443208350501305]\n",
      "SIM: [0.03660183684494868, 0.06726094003241491, 0.08968125337655321, 0.11346751317033635, 0.13542370590620353, 0.15187990262374898, 0.16802388707926166, 0.18303327877795963, 0.19453221596373127, 0.20697771009275925]\n",
      "MMR: [0.034170718530524044, 0.055915721231766614, 0.06604538087520259, 0.07632041064433338, 0.08780224233418885, 0.09850020267531415, 0.10798376184032477, 0.11748708186021213, 0.1252226332374298, 0.1313969571230982]\n",
      "MLQ: [0.025796866558616963, 0.04164976335361731, 0.04858741640507711, 0.056978052898142936, 0.06411945542380325, 0.07190044553694884, 0.07850437034639042, 0.08501390820584144, 0.09118255311148712, 0.09440130772374336]\n",
      "REO: [0.011615343057806591, 0.01877363587250135, 0.02174500270124257, 0.02417938673510739, 0.027436140018921477, 0.03097105761428185, 0.03474484256243214, 0.03764320785597381, 0.04025278197554609, 0.04361068807974526]\n"
     ]
    }
   ],
   "source": [
    "avg_bm25 = get_average_level(levels_bm25)\n",
    "avg_sim = get_average_level(levels_sim)\n",
    "avg_mmr = get_average_level(levels_mmr)\n",
    "avg_mlq = get_average_level(levels_mlq)\n",
    "avg_reo = get_average_level(levels_reo)\n",
    "\n",
    "percent_bm25 = get_percentage_k_levels(levels_bm25, k=0.7)\n",
    "percent_sim = get_percentage_k_levels(levels_sim, k=0.7)\n",
    "percent_mmr = get_percentage_k_levels(levels_mmr, k=0.7)\n",
    "percent_mlq = get_percentage_k_levels(levels_mlq, k=0.7)\n",
    "percent_reo = get_percentage_k_levels(levels_reo, k=0.7)\n",
    "\n",
    "# Printing results\n",
    "print(\"Average Levels:\")\n",
    "print(\"BM25:\", avg_bm25)\n",
    "print(\"SIM:\", avg_sim)\n",
    "print(\"MMR:\", avg_mmr)\n",
    "print(\"MLQ:\", avg_mlq)\n",
    "print(\"REO:\", avg_reo)\n",
    "\n",
    "print(\"\\nPercentage of Scores >= 0.5:\")\n",
    "print(\"BM25:\", percent_bm25)\n",
    "print(\"SIM:\", percent_sim)\n",
    "print(\"MMR:\", percent_mmr)\n",
    "print(\"MLQ:\", percent_mlq)\n",
    "print(\"REO:\", percent_reo)"
   ]
  },
  {
   "cell_type": "code",
   "execution_count": 69,
   "id": "000ad8d1-e11f-48cf-9b08-f8a8581b1fa1",
   "metadata": {},
   "outputs": [],
   "source": [
    "ir_scores_1000_bm25 = get_ir_scores_1000(path = 'ir_scores/scores_bm25.json')\n",
    "ir_scores_1000_sim = get_ir_scores_1000(path = 'ir_scores/scores_sim.json')\n",
    "ir_scores_1000_mmr = get_ir_scores_1000(path = 'ir_scores/scores_mmr.json')\n",
    "ir_scores_1000_mlq = get_ir_scores_1000(path = 'ir_scores/scores_mlq.json')\n",
    "ir_scores_1000_reo = get_ir_scores_1000(path = 'ir_scores/scores_reo.json')"
   ]
  },
  {
   "cell_type": "code",
   "execution_count": 70,
   "id": "5abf637c-079b-4b6f-9412-e0a14d2fd679",
   "metadata": {},
   "outputs": [
    {
     "data": {
      "text/plain": [
       "7404"
      ]
     },
     "execution_count": 70,
     "metadata": {},
     "output_type": "execute_result"
    }
   ],
   "source": [
    "len(ir_scores_1000_bm25)"
   ]
  },
  {
   "cell_type": "code",
   "execution_count": 142,
   "id": "2d952398-0646-4b88-af48-046b850b8884",
   "metadata": {},
   "outputs": [],
   "source": [
    "def average(ir_scores):\n",
    "    return sum(ir_scores)/len(ir_scores)\n",
    "\n",
    "def get_percentage_k(ir_scores, k = 0.60):\n",
    "    count = 0\n",
    "    for score in ir_scores:\n",
    "        if score >= k:\n",
    "            count +=1\n",
    "    return count/len(ir_scores)\n",
    "\n",
    "def get_percentage_borns(ir_scores, j = 0.26,h= 0.58):\n",
    "    count = 0\n",
    "    for score in ir_scores:\n",
    "        if score <= h and score >= j:\n",
    "            count +=1\n",
    "    return count/len(ir_scores)"
   ]
  },
  {
   "cell_type": "code",
   "execution_count": 132,
   "id": "d13ff182-5af5-484c-a1d0-2ea457c98774",
   "metadata": {},
   "outputs": [
    {
     "name": "stdout",
     "output_type": "stream",
     "text": [
      "Percentage K for BM25: 0.5510534846029174\n",
      "Percentage K for SIM: 0.6939492166396543\n",
      "Percentage K for MMR: 0.7662074554294975\n",
      "Percentage K for MLQ: 0.8313074014046461\n",
      "Percentage K for REO: 0.9057266342517558\n"
     ]
    }
   ],
   "source": [
    "percentage_k_bm25 = get_percentage_k(ir_scores_1000_bm25)\n",
    "percentage_k_sim = get_percentage_k(ir_scores_1000_sim)\n",
    "percentage_k_mmr = get_percentage_k(ir_scores_1000_mmr)\n",
    "percentage_k_mlq = get_percentage_k(ir_scores_1000_mlq)\n",
    "percentage_k_reo = get_percentage_k(ir_scores_1000_reo)\n",
    "\n",
    "print(\"Percentage K for BM25:\", percentage_k_bm25)\n",
    "print(\"Percentage K for SIM:\", percentage_k_sim)\n",
    "print(\"Percentage K for MMR:\", percentage_k_mmr)\n",
    "print(\"Percentage K for MLQ:\", percentage_k_mlq)\n",
    "print(\"Percentage K for REO:\", percentage_k_reo)"
   ]
  },
  {
   "cell_type": "code",
   "execution_count": 143,
   "id": "dab9a928-cf4c-4052-9402-840276e6b466",
   "metadata": {},
   "outputs": [
    {
     "name": "stdout",
     "output_type": "stream",
     "text": [
      "Percentage borns for BM25: 0.36223662884927066\n",
      "Percentage borns for SIM: 0.3927606699081578\n",
      "Percentage borns for MMR: 0.40153970826580226\n",
      "Percentage borns for MLQ: 0.4042409508373852\n",
      "Percentage borns for REO: 0.20448406266882765\n"
     ]
    }
   ],
   "source": [
    "percentage_borns_bm25 = get_percentage_borns(ir_scores_1000_bm25)\n",
    "percentage_borns_sim = get_percentage_borns(ir_scores_1000_sim)\n",
    "percentage_borns_mmr = get_percentage_borns(ir_scores_1000_mmr)\n",
    "percentage_borns_mlq = get_percentage_borns(ir_scores_1000_mlq)\n",
    "percentage_borns_reo = get_percentage_borns(ir_scores_1000_reo)\n",
    "\n",
    "print(\"Percentage borns for BM25:\", percentage_borns_bm25)\n",
    "print(\"Percentage borns for SIM:\", percentage_borns_sim)\n",
    "print(\"Percentage borns for MMR:\", percentage_borns_mmr)\n",
    "print(\"Percentage borns for MLQ:\", percentage_borns_mlq)\n",
    "print(\"Percentage borns for REO:\", percentage_borns_reo)"
   ]
  },
  {
   "cell_type": "code",
   "execution_count": 125,
   "id": "f9ee63ec-5a6d-4b33-9bd3-13c5ebee4452",
   "metadata": {},
   "outputs": [
    {
     "data": {
      "text/plain": [
       "[{1: 0.009049162614802809,\n",
       "  2: 0.1307401404646137,\n",
       "  3: 0.04321988114532685,\n",
       "  4: 0.5773905996758509,\n",
       "  5: 0.23960021609940574},\n",
       " {1: 0.07752566180443003,\n",
       "  2: 0.05415991356023771,\n",
       "  3: 0.1312803889789303,\n",
       "  4: 0.31266882766072396,\n",
       "  5: 0.424365207995678},\n",
       " {1: 0.08752025931928688,\n",
       "  2: 0.053079416531604535,\n",
       "  3: 0.13749324689357104,\n",
       "  4: 0.40464613722312265,\n",
       "  5: 0.3172609400324149},\n",
       " {1: 0.10399783900594273,\n",
       "  2: 0.06537007023230686,\n",
       "  3: 0.12088060507833603,\n",
       "  4: 0.4204484062668828,\n",
       "  5: 0.2893030794165316},\n",
       " {1: 0.21326310102647217,\n",
       "  2: 0.051998919502971364,\n",
       "  3: 0.06793625067531064,\n",
       "  4: 0.4901404646137223,\n",
       "  5: 0.1766612641815235},\n",
       " {1: 0.1809832522960562,\n",
       "  2: 0.059967585089141004,\n",
       "  3: 0.11534305780659103,\n",
       "  4: 0.4065370070232307,\n",
       "  5: 0.2371690977849811}]"
      ]
     },
     "execution_count": 125,
     "metadata": {},
     "output_type": "execute_result"
    }
   ],
   "source": [
    "new_dicts"
   ]
  },
  {
   "cell_type": "code",
   "execution_count": 75,
   "id": "4dc42518-3271-4c3e-9356-213bf125e137",
   "metadata": {},
   "outputs": [
    {
     "data": {
      "text/plain": [
       "7404"
      ]
     },
     "execution_count": 75,
     "metadata": {},
     "output_type": "execute_result"
    }
   ],
   "source": [
    "len(ir_scores_1000_bm25)"
   ]
  },
  {
   "cell_type": "code",
   "execution_count": 81,
   "id": "802f8afa-822b-40f9-88f4-485b275d2ec0",
   "metadata": {},
   "outputs": [
    {
     "name": "stdout",
     "output_type": "stream",
     "text": [
      "Optimal value of k: [0.54815489]\n"
     ]
    }
   ],
   "source": [
    "import scipy.optimize as opt\n",
    "\n",
    "a_bm25 = 0.42436\n",
    "a_sim = 0.3172\n",
    "a_mmr = 0.2893\n",
    "a_mlq = 0.2371\n",
    "a_reo = 0.1766\n",
    "\n",
    "def objective(k):\n",
    "    s = get_percentage_k(ir_scores_1000_reo, k)\n",
    "    #s = get_percentage_k(ir_scores_1000_bm25, k)\n",
    "    return abs(s - a_reo)\n",
    "\n",
    "# Bounds for k between 0 and 1\n",
    "bounds = [(0, 1)]\n",
    "\n",
    "# Perform the optimization using differential evolution for better exploration\n",
    "result = opt.differential_evolution(objective, bounds)\n",
    "\n",
    "# Optimal value of k\n",
    "optimal_k= result.x\n",
    "\n",
    "print(\"Optimal value of k:\", optimal_k)\n"
   ]
  },
  {
   "cell_type": "code",
   "execution_count": 82,
   "id": "8493bc6a-62fb-400f-b2d4-25eee77a985d",
   "metadata": {},
   "outputs": [
    {
     "data": {
      "text/plain": [
       "0.57267255"
      ]
     },
     "execution_count": 82,
     "metadata": {},
     "output_type": "execute_result"
    }
   ],
   "source": [
    "0.61722211\n",
    "0.59469564\n",
    "0.58092997\n",
    "0.57267255\n",
    "0.5481"
   ]
  },
  {
   "cell_type": "code",
   "execution_count": 11,
   "id": "945ed3f9-9821-4c25-91e0-0ce3d19c4764",
   "metadata": {},
   "outputs": [
    {
     "name": "stdout",
     "output_type": "stream",
     "text": [
      "Average BM25: 0.6240610453344557627098865478\n",
      "Average SIM: 0.5128080240201006440675310643\n",
      "Average MMR: 0.4562704477558768106851701783\n",
      "Average MLQ: 0.3990494596390025177920043220\n",
      "Average REO: 0.2628835100278659124401674770\n"
     ]
    }
   ],
   "source": [
    "avg_bm25 = average(ir_scores_1000_bm25)\n",
    "avg_sim = average(ir_scores_1000_sim)\n",
    "avg_mmr = average(ir_scores_1000_mmr)\n",
    "avg_mlq = average(ir_scores_1000_mlq)\n",
    "avg_reo = average(ir_scores_1000_reo)\n",
    "print(f\"Average BM25: {avg_bm25}\")\n",
    "print(f\"Average SIM: {avg_sim}\")\n",
    "print(f\"Average MMR: {avg_mmr}\")\n",
    "print(f\"Average MLQ: {avg_mlq}\")\n",
    "print(f\"Average REO: {avg_reo}\")"
   ]
  },
  {
   "cell_type": "code",
   "execution_count": 14,
   "id": "37b5a759-9062-4c23-bbf3-1482c54c5ee1",
   "metadata": {},
   "outputs": [],
   "source": [
    "def read_file_to_list_of_lists(file_path):\n",
    "    list_of_lists = []\n",
    "    with open(file_path, 'r') as file:\n",
    "        for line in file:\n",
    "            # Split each line by comma and convert the elements to integers\n",
    "            list_of_lists.append([int(item) for item in line.strip().split(',')])\n",
    "    return list_of_lists\n",
    "\n",
    "data1 = read_file_to_list_of_lists('scores.txt' )\n",
    "data2 = read_file_to_list_of_lists('scores_2.txt' )\n",
    "llm_scores = data1 + data2[4:]"
   ]
  },
  {
   "cell_type": "code",
   "execution_count": 15,
   "id": "a593f28b-232e-4d7d-82c7-3eeb53c4c9ed",
   "metadata": {},
   "outputs": [],
   "source": [
    "def get_unique_col_counts(data):\n",
    "    numpy_array = np.array(data)\n",
    "    column_unique_counts = []\n",
    "    for col_index in range(numpy_array.shape[1]):\n",
    "        col = numpy_array[:, col_index]\n",
    "        unique_elements, counts = np.unique(col, return_counts=True)\n",
    "        unique_counts_dict = dict(zip(unique_elements, counts))\n",
    "        column_unique_counts.append(unique_counts_dict)\n",
    "    return column_unique_counts"
   ]
  },
  {
   "cell_type": "code",
   "execution_count": 16,
   "id": "b72b0354-aaec-4acf-aeb4-044b098e3645",
   "metadata": {},
   "outputs": [
    {
     "data": {
      "text/plain": [
       "[{2: 19, 3: 3, 4: 37, 5: 41},\n",
       " {1: 15, 2: 1, 3: 24, 4: 32, 5: 28},\n",
       " {1: 12, 2: 1, 3: 21, 4: 31, 5: 35},\n",
       " {1: 11, 3: 18, 4: 31, 5: 40},\n",
       " {1: 8, 2: 4, 3: 17, 4: 29, 5: 42},\n",
       " {1: 12, 2: 4, 3: 13, 4: 32, 5: 39},\n",
       " {1: 11, 2: 2, 3: 12, 4: 28, 5: 47},\n",
       " {1: 9, 2: 5, 3: 10, 4: 25, 5: 51},\n",
       " {1: 10, 2: 2, 3: 11, 4: 28, 5: 49},\n",
       " {1: 4, 2: 5, 3: 12, 4: 29, 5: 50},\n",
       " {1: 8, 2: 1, 3: 9, 4: 25, 5: 57}]"
      ]
     },
     "execution_count": 16,
     "metadata": {},
     "output_type": "execute_result"
    }
   ],
   "source": [
    "get_unique_col_counts(sample_llm_scores)"
   ]
  },
  {
   "cell_type": "code",
   "execution_count": 17,
   "id": "3032daab-a455-45e4-af46-03d74e56fbbe",
   "metadata": {},
   "outputs": [
    {
     "data": {
      "text/plain": [
       "[{1: 67, 2: 968, 3: 320, 4: 4275, 5: 1774},\n",
       " {1: 574, 2: 401, 3: 972, 4: 2315, 5: 3142},\n",
       " {1: 648, 2: 393, 3: 1018, 4: 2996, 5: 2349},\n",
       " {1: 770, 2: 484, 3: 895, 4: 3113, 5: 2142},\n",
       " {1: 1579, 2: 385, 3: 503, 4: 3629, 5: 1308},\n",
       " {1: 1340, 2: 444, 3: 854, 4: 3010, 5: 1756}]"
      ]
     },
     "execution_count": 17,
     "metadata": {},
     "output_type": "execute_result"
    }
   ],
   "source": [
    "get_unique_col_counts(llm_scores)"
   ]
  },
  {
   "cell_type": "code",
   "execution_count": 22,
   "id": "c4f8a02c-5f4e-4694-9b0f-199b1be82661",
   "metadata": {},
   "outputs": [],
   "source": [
    "llm_scores_dicts = get_unique_col_counts(llm_scores)\n",
    "new_dicts = []\n",
    "for entry in llm_scores_dicts:\n",
    "    total_counts = 0\n",
    "    dict1 = {}\n",
    "    for key, value in entry.items():\n",
    "        total_counts += value\n",
    "    for key, value in entry.items():\n",
    "        dict1[key] = value/total_counts\n",
    "    new_dicts.append(dict1)"
   ]
  },
  {
   "cell_type": "code",
   "execution_count": 23,
   "id": "28a53451-c79e-439f-beea-d0531b4677a2",
   "metadata": {
    "scrolled": true
   },
   "outputs": [
    {
     "data": {
      "text/plain": [
       "[{1: 0.009049162614802809,\n",
       "  2: 0.1307401404646137,\n",
       "  3: 0.04321988114532685,\n",
       "  4: 0.5773905996758509,\n",
       "  5: 0.23960021609940574},\n",
       " {1: 0.07752566180443003,\n",
       "  2: 0.05415991356023771,\n",
       "  3: 0.1312803889789303,\n",
       "  4: 0.31266882766072396,\n",
       "  5: 0.424365207995678},\n",
       " {1: 0.08752025931928688,\n",
       "  2: 0.053079416531604535,\n",
       "  3: 0.13749324689357104,\n",
       "  4: 0.40464613722312265,\n",
       "  5: 0.3172609400324149},\n",
       " {1: 0.10399783900594273,\n",
       "  2: 0.06537007023230686,\n",
       "  3: 0.12088060507833603,\n",
       "  4: 0.4204484062668828,\n",
       "  5: 0.2893030794165316},\n",
       " {1: 0.21326310102647217,\n",
       "  2: 0.051998919502971364,\n",
       "  3: 0.06793625067531064,\n",
       "  4: 0.4901404646137223,\n",
       "  5: 0.1766612641815235},\n",
       " {1: 0.1809832522960562,\n",
       "  2: 0.059967585089141004,\n",
       "  3: 0.11534305780659103,\n",
       "  4: 0.4065370070232307,\n",
       "  5: 0.2371690977849811}]"
      ]
     },
     "execution_count": 23,
     "metadata": {},
     "output_type": "execute_result"
    }
   ],
   "source": [
    "new_dicts"
   ]
  },
  {
   "cell_type": "markdown",
   "id": "d4ae8763-0c59-4882-957a-b2770c25e6d4",
   "metadata": {},
   "source": [
    "## exec time 0, 1000 tokens in context"
   ]
  },
  {
   "cell_type": "code",
   "execution_count": null,
   "id": "832e02f2-b219-4ad3-a9c2-eaa76b307600",
   "metadata": {
    "scrolled": true
   },
   "outputs": [],
   "source": [
    "pip install pip install langchain-community langchain-core"
   ]
  },
  {
   "cell_type": "code",
   "execution_count": 3,
   "id": "2388771b-6f3d-4e0e-93ba-1620e4138c6f",
   "metadata": {},
   "outputs": [],
   "source": [
    "with open(\"sample_100.json\", 'r') as file:\n",
    "    sample = json.load(file)"
   ]
  },
  {
   "cell_type": "code",
   "execution_count": 4,
   "id": "dd5825af-9936-4a04-a79e-fccbf754a1ad",
   "metadata": {},
   "outputs": [],
   "source": [
    "from langchain_community.chat_models import ChatOllama\n",
    "import timeit\n",
    "import time\n",
    "\n",
    "def get_Ck(index, path = 'ir_scores/scores_bm25.json'):\n",
    "    with open(path, 'rb') as file:\n",
    "        for all_Ck in ijson.items(file, \"all_Ck\"):\n",
    "            break\n",
    "\n",
    "    return all_Ck[index][:10]\n",
    "\n",
    "def generate_answer(query , documents=0, llm = ChatOllama(model='llama3', temperature=0.0)):\n",
    "    if documents :\n",
    "        prompt = f\"\"\"Given the documents below, your role is to answer the query using only these documents. Respond with a precise, one sentence explanation.\n",
    "        \n",
    "        Query:\n",
    "        {query}\n",
    "        \n",
    "        Documents:\n",
    "        {documents}\n",
    "        \n",
    "        Answer:\"\"\"\n",
    "    else:\n",
    "        prompt = f\"\"\"Responde with one sentence precise explanation to the given query.\n",
    "        Query: {query}\n",
    "        \"\"\"\n",
    "    result = llm.invoke(prompt)\n",
    "    answer = result.content\n",
    "    return answer"
   ]
  },
  {
   "cell_type": "code",
   "execution_count": 5,
   "id": "97ad9c34-915c-4218-a356-697389c0e8a8",
   "metadata": {},
   "outputs": [],
   "source": [
    "query = sample[34][1][\"question\"]"
   ]
  },
  {
   "cell_type": "code",
   "execution_count": 6,
   "id": "302bb887-bdea-430d-8f77-1bea23488172",
   "metadata": {},
   "outputs": [],
   "source": [
    "Ck = get_Ck(sample[34][0])"
   ]
  },
  {
   "cell_type": "code",
   "execution_count": 137,
   "id": "1aa72a92-5f65-46b7-80e7-6f96f5963ab3",
   "metadata": {},
   "outputs": [
    {
     "data": {
      "text/plain": [
       "'No, Yixing is a city while Shaoshan is a town, not both being county-level cities.'"
      ]
     },
     "execution_count": 137,
     "metadata": {},
     "output_type": "execute_result"
    }
   ],
   "source": [
    "generate_answer(query)"
   ]
  },
  {
   "cell_type": "code",
   "execution_count": 144,
   "id": "bc974c88-75a3-4d8e-adbf-c0c95730756b",
   "metadata": {},
   "outputs": [],
   "source": [
    "def measure_tpot(query, documents=0):\n",
    "    # Start the timer\n",
    "    start_time = time.time()\n",
    "    \n",
    "    # Generate text and measure the time taken\n",
    "    response = generate_answer(query, documents)\n",
    "    \n",
    "    # End the timer\n",
    "    end_time = time.time()\n",
    "    \n",
    "    # Calculate the total time taken\n",
    "    total_time = end_time - start_time\n",
    "    \n",
    "    # Count the number of tokens in the response\n",
    "    num_tokens = len(response.split())\n",
    "    \n",
    "    # Calculate TPOT (Time Per Output Token)\n",
    "    tpot = total_time / num_tokens if num_tokens > 0 else float('inf')\n",
    "    \n",
    "    return tpot"
   ]
  },
  {
   "cell_type": "code",
   "execution_count": 145,
   "id": "ca8fd6ee-f4a1-49e4-8b2e-d23ae79699d9",
   "metadata": {},
   "outputs": [
    {
     "data": {
      "text/plain": [
       "0.04633568127950032"
      ]
     },
     "execution_count": 145,
     "metadata": {},
     "output_type": "execute_result"
    }
   ],
   "source": [
    "measure_tpot(query)"
   ]
  },
  {
   "cell_type": "code",
   "execution_count": 29,
   "id": "b7de43d6-9ede-4bb4-a2b3-229d54943ee7",
   "metadata": {},
   "outputs": [
    {
     "data": {
      "text/plain": [
       "0.5983184278011322"
      ]
     },
     "execution_count": 29,
     "metadata": {},
     "output_type": "execute_result"
    }
   ],
   "source": [
    "execution_time = timeit.timeit(lambda: generate_answer(query), number=1)\n",
    "execution_time"
   ]
  },
  {
   "cell_type": "code",
   "execution_count": 152,
   "id": "4fbeeefc-e95b-4826-b40f-327e9b16d539",
   "metadata": {},
   "outputs": [
    {
     "data": {
      "text/plain": [
       "0.7145568951964378"
      ]
     },
     "execution_count": 152,
     "metadata": {},
     "output_type": "execute_result"
    }
   ],
   "source": [
    "execution_time = timeit.timeit(lambda: generate_answer(query, Ck[0]), number=1)\n",
    "execution_time"
   ]
  },
  {
   "cell_type": "code",
   "execution_count": 164,
   "id": "dd212c57-f15d-4d0d-8a30-dd8fbfd61d9f",
   "metadata": {},
   "outputs": [
    {
     "data": {
      "text/plain": [
       "0.9298017919063568"
      ]
     },
     "execution_count": 164,
     "metadata": {},
     "output_type": "execute_result"
    }
   ],
   "source": [
    "execution_time = timeit.timeit(lambda: generate_answer(query, Ck[4]), number=1)\n",
    "execution_time"
   ]
  },
  {
   "cell_type": "code",
   "execution_count": 163,
   "id": "e6dafad2-c2ac-4d61-ac75-060aea590f01",
   "metadata": {},
   "outputs": [
    {
     "data": {
      "text/plain": [
       "0.9260726198554039"
      ]
     },
     "execution_count": 163,
     "metadata": {},
     "output_type": "execute_result"
    }
   ],
   "source": [
    "execution_time = timeit.timeit(lambda: generate_answer(query, Ck[4]), number=1)\n",
    "execution_time"
   ]
  },
  {
   "cell_type": "code",
   "execution_count": 19,
   "id": "5a213972-0d53-4440-b7a8-ca3a29d9a930",
   "metadata": {},
   "outputs": [
    {
     "data": {
      "text/plain": [
       "0.6614775732159615"
      ]
     },
     "execution_count": 19,
     "metadata": {},
     "output_type": "execute_result"
    }
   ],
   "source": [
    "execution_time = timeit.timeit(lambda: generate_answer(query, Ck[6]), number=1)\n",
    "execution_time"
   ]
  },
  {
   "cell_type": "code",
   "execution_count": 22,
   "id": "5c7bad22-ad22-44b0-ae4b-b1f30cf56d28",
   "metadata": {},
   "outputs": [
    {
     "data": {
      "text/plain": [
       "0.5237562209367752"
      ]
     },
     "execution_count": 22,
     "metadata": {},
     "output_type": "execute_result"
    }
   ],
   "source": [
    "execution_time = timeit.timeit(lambda: generate_answer(query, Ck[6]), number=1)\n",
    "execution_time"
   ]
  },
  {
   "cell_type": "code",
   "execution_count": 23,
   "id": "bb35dcb0-399e-4986-9dfc-4e1ce960e755",
   "metadata": {},
   "outputs": [
    {
     "name": "stdout",
     "output_type": "stream",
     "text": [
      "0.7770084254443645\n",
      "378\n",
      "0.8690024577081203\n",
      "761\n",
      "1.019296258687973\n",
      "1146\n",
      "1.0330758430063725\n",
      "1532\n",
      "1.054040439426899\n",
      "2039\n",
      "0.6371019035577774\n",
      "2432\n",
      "0.6595396213233471\n",
      "2871\n",
      "0.8535418547689915\n",
      "3285\n",
      "1.3731606230139732\n",
      "3732\n",
      "0.8866230212152004\n",
      "4128\n"
     ]
    }
   ],
   "source": [
    "for c in Ck:\n",
    "    execution_time = timeit.timeit(lambda: generate_answer(query, c), number=1)\n",
    "    #execution_time = measure_tpot(query, documents=c) \n",
    "    print(execution_time)\n",
    "    print(len(c))"
   ]
  },
  {
   "cell_type": "code",
   "execution_count": 30,
   "id": "8cb51dd8-fae1-4e01-9cf0-8640668ca757",
   "metadata": {},
   "outputs": [],
   "source": [
    "prompt_template = \"\"\"Task: Assess the candidate's answers based on the true answer, references, and scoring criteria, and return only the scores separated by commas.\n",
    "Question: \"{question}\" \n",
    "\n",
    "True Answer: \"{true_answer}\"\n",
    "\n",
    "References:\n",
    "{formatted_facts}\n",
    "\n",
    "Candidate's Answers:\n",
    "{formatted_answers}\n",
    "Scoring Criteria:\n",
    "\n",
    "If the candidate said that they cannot find enough information in documents to answer the question, the score is 1.\n",
    "If the answer is partially correct but in details you found statements that are incorrect, the score is 2.\n",
    "If the answer is partially correct but you found that it don't completely answer the question, the score is 3.\n",
    "If the answer is fully incorrect, the score is 4.\n",
    "If the answer is fully correct, the score is 5.\n",
    "\"\"\""
   ]
  },
  {
   "cell_type": "code",
   "execution_count": 32,
   "id": "28429b3f-40a8-4940-b095-2b249c02508e",
   "metadata": {},
   "outputs": [
    {
     "name": "stdout",
     "output_type": "stream",
     "text": [
      "Task: Assess the candidate's answers based on the true answer, references, and scoring criteria, and return only the scores separated by commas.\n",
      "Question: \"{question}\" \n",
      "\n",
      "True Answer: \"{true_answer}\"\n",
      "\n",
      "References:\n",
      "{formatted_facts}\n",
      "\n",
      "Candidate's Answers:\n",
      "{formatted_answers}\n",
      "Scoring Criteria:\n",
      "\n",
      "If the candidate said that they cannot find enough information in documents to answer the question, the score is 1.\n",
      "If the answer is partially correct but in details you found statements that are incorrect, the score is 2.\n",
      "If the answer is partially correct but you found that it don't completely answer the question, the score is 3.\n",
      "If the answer is fully incorrect, the score is 4.\n",
      "If the answer is fully correct, the score is 5.\n",
      "\n"
     ]
    }
   ],
   "source": [
    "print(prompt_template)"
   ]
  },
  {
   "cell_type": "code",
   "execution_count": 189,
   "id": "a166f3af-848e-4193-b1e4-72bcd8706c80",
   "metadata": {},
   "outputs": [],
   "source": [
    "def read_file_to_list_of_lists(file_path):\n",
    "    list_of_lists = []\n",
    "    with open(file_path, 'r') as file:\n",
    "        for line in file:\n",
    "            # Split each line by comma and convert the elements to integers\n",
    "            list_of_lists.append([int(item) for item in line.strip().split(',')])\n",
    "    return list_of_lists\n",
    "data1 = read_file_to_list_of_lists('scores.txt' )\n",
    "data2 = read_file_to_list_of_lists('scores_2.txt' )\n",
    "llm_scores = data1 + data2[4:]\n",
    "\n",
    "def get_ir_scores_1000(path = 'ir_scores/scores_bm25.json'):\n",
    "    scores_1000 = []\n",
    "    with open(path, 'rb') as file:\n",
    "        for all_scores in ijson.items(file, \"all_scores\"):\n",
    "            for scores in all_scores :\n",
    "                scores_1000.append(float(scores[:10][-1][0]))\n",
    "    return scores_1000\n",
    "\n",
    "all_ir_scores = (get_ir_scores_1000(path='ir_scores/scores_bm25.json') + \n",
    "                 get_ir_scores_1000(path='ir_scores/scores_sim.json') +\n",
    "                 get_ir_scores_1000(path='ir_scores/scores_mmr.json') +\n",
    "                 get_ir_scores_1000(path='ir_scores/scores_mlq.json') +\n",
    "                 get_ir_scores_1000(path='ir_scores/scores_reo.json'))\n",
    "                \n",
    "\n",
    "all_llm_scores = ([scores [1] for scores in llm_scores] +\n",
    "                 [scores [2] for scores in llm_scores] +\n",
    "                 [scores [3] for scores in llm_scores] +\n",
    "                 [scores [5] for scores in llm_scores] +\n",
    "                 [scores [4] for scores in llm_scores])\n",
    "                "
   ]
  },
  {
   "cell_type": "code",
   "execution_count": 264,
   "id": "e6c61b24-d47f-4c3b-b665-18af3b328f8c",
   "metadata": {},
   "outputs": [
    {
     "name": "stdout",
     "output_type": "stream",
     "text": [
      "Optimal threshold (k): 0.4927516459788047\n"
     ]
    }
   ],
   "source": [
    "import pandas as pd\n",
    "import numpy as np\n",
    "from scipy.optimize import differential_evolution\n",
    "import matplotlib.pyplot as plt\n",
    "\n",
    "df = pd.DataFrame({\n",
    "    'IR Score': all_llm_scores,\n",
    "    'LLM Score': all_ir_scores\n",
    "})\n",
    "\n",
    "df['Correct'] = (df['LLM Score'] == 5).astype(int)\n",
    "\n",
    "# Likelihood function\n",
    "def likelihood_function(k, scores = df['IR Score'], outcomes = df['Correct']):\n",
    "    k = k[0]\n",
    "    p = (scores > k).astype(int)  # Probability of being classified as 1\n",
    "    likelihoods = p * outcomes + (1 - p) * (1 - outcomes)\n",
    "    return -np.sum(np.log(likelihoods + 1e-10))  # Add a small value to avoid log(0)\n",
    "\n",
    "# Define the bounds for k\n",
    "bounds = [(0, 1)]  #  IR scores are between 0 and 1\n",
    "\n",
    "# Perform the optimization\n",
    "result = differential_evolution(likelihood_function, bounds, args=(df['IR Score'], df['Correct']))\n",
    "\n",
    "# Optimal threshold\n",
    "optimal_k = result.x[0]\n",
    "print(f\"Optimal threshold (k): {optimal_k}\")"
   ]
  },
  {
   "cell_type": "code",
   "execution_count": 221,
   "id": "3aed5ef3-73ef-4f3f-8c2c-7f25800242ec",
   "metadata": {},
   "outputs": [
    {
     "name": "stdout",
     "output_type": "stream",
     "text": [
      "Optimal threshold (k): 0.5088766367235142\n"
     ]
    }
   ],
   "source": [
    "import pandas as pd\n",
    "import numpy as np\n",
    "from scipy.optimize import differential_evolution\n",
    "import matplotlib.pyplot as plt\n",
    "\n",
    "df = pd.DataFrame({\n",
    "    'IR Score': all_llm_scores,\n",
    "    'LLM Score': all_ir_scores\n",
    "})\n",
    "\n",
    "df['incorrect'] = (df['LLM Score'] == 5).astype(int)\n",
    "\n",
    "# Likelihood function\n",
    "def likelihood_function(k, scores, outcomes):\n",
    "    k = k[0]\n",
    "    p = (scores <=  k).astype(int)  # Probability of being classified as 1\n",
    "    likelihoods = p * outcomes + (1 - p) * (1 - outcomes)\n",
    "    return -np.sum(np.log(likelihoods + 1e-10))  # Add a small value to avoid log(0)\n",
    "\n",
    "# Define the bounds for k\n",
    "bounds = [(0, 1)]  # Assuming IR scores are between 0 and 1\n",
    "\n",
    "# Perform the optimization\n",
    "result = differential_evolution(likelihood_function, bounds, args=(df['IR Score'], df['incorrect']))\n",
    "\n",
    "# Optimal threshold\n",
    "optimal_k = result.x[0]\n",
    "print(f\"Optimal threshold (k): {optimal_k}\")"
   ]
  },
  {
   "cell_type": "code",
   "execution_count": null,
   "id": "544c80fa-dd78-4d0b-a3fe-0e491196706b",
   "metadata": {},
   "outputs": [],
   "source": []
  }
 ],
 "metadata": {
  "kernelspec": {
   "display_name": "Python 3 (ipykernel)",
   "language": "python",
   "name": "python3"
  },
  "language_info": {
   "codemirror_mode": {
    "name": "ipython",
    "version": 3
   },
   "file_extension": ".py",
   "mimetype": "text/x-python",
   "name": "python",
   "nbconvert_exporter": "python",
   "pygments_lexer": "ipython3",
   "version": "3.11.6"
  }
 },
 "nbformat": 4,
 "nbformat_minor": 5
}
